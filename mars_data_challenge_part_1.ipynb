{
 "cells": [
  {
   "cell_type": "code",
   "execution_count": 1,
   "metadata": {},
   "outputs": [],
   "source": [
    "from splinter import Browser\n",
    "from bs4 import BeautifulSoup\n",
    "from webdriver_manager.chrome import ChromeDriverManager\n",
    "import pymongo\n",
    "from pprint import pprint\n"
   ]
  },
  {
   "cell_type": "code",
   "execution_count": 2,
   "metadata": {},
   "outputs": [],
   "source": [
    "executable_path = {'executable_path': ChromeDriverManager().install()}\n",
    "browser = Browser('chrome', **executable_path, headless=False)"
   ]
  },
  {
   "cell_type": "code",
   "execution_count": 3,
   "metadata": {},
   "outputs": [],
   "source": [
    "url = 'https://redplanetscience.com/'\n",
    "browser.visit(url)\n",
    "soup = BeautifulSoup(browser.html, 'html.parser')"
   ]
  },
  {
   "cell_type": "code",
   "execution_count": 4,
   "metadata": {},
   "outputs": [
    {
     "name": "stdout",
     "output_type": "stream",
     "text": [
      "[{'preview': 'In honor of Hispanic Heritage Month, Christina Hernandez, an '\n",
      "             'instrument engineer on the Mars 2020 mission, talks about her '\n",
      "             'childhood and journey to NASA.',\n",
      "  'title': 'My Culture, My Voice'},\n",
      " {'preview': 'Marking its 15th anniversary since launch, one of the oldest '\n",
      "             'spacecraft at the Red Planet has provided glimpses of dust '\n",
      "             'devils, avalanches, and more.',\n",
      "  'title': \"Celebrate Mars Reconnaissance Orbiter's Views From Above\"},\n",
      " {'preview': 'A crisply rendered web application can show you where the '\n",
      "             \"agency's Mars 2020 mission is right now as it makes its way to \"\n",
      "             'the Red Planet for a Feb. 18, 2021, landing.',\n",
      "  'title': \"Follow NASA's Perseverance Rover in Real Time on Its Way to Mars\"},\n",
      " {'preview': 'NASA spacecraft at Mars are going to be on their own for a few '\n",
      "             'weeks when the Sun comes between Mars and Earth, interrupting '\n",
      "             'communications.',\n",
      "  'title': \"What's Mars Solar Conjunction, and Why Does It Matter?\"},\n",
      " {'preview': 'Want to name the robotic scientist NASA is sending to Mars in '\n",
      "             '2020? The student who named Curiosity — the rover currently '\n",
      "             'exploring Mars — will tell you this is an opportunity worth '\n",
      "             'taking.',\n",
      "  'title': 'Naming a NASA Mars Rover Can Change Your Life'},\n",
      " {'preview': \"Now that the lander's robotic arm has helped the mole get \"\n",
      "             'underground, it will resume science activities that have been on '\n",
      "             'hold.',\n",
      "  'title': \"NASA's InSight Flexes Its Arm While Its 'Mole' Hits Pause\"},\n",
      " {'preview': 'Along with capturing an image before its steepest ascent ever, '\n",
      "             'the robotic explorer filmed its \"selfie stick,\" or robotic arm, '\n",
      "             'in action.',\n",
      "  'title': \"NASA's Curiosity Mars Rover Takes a New Selfie Before Record \"\n",
      "           'Climb'},\n",
      " {'preview': 'NASA chose a seventh-grader from Virginia as winner of the '\n",
      "             'agency\\'s \"Name the Rover\" essay contest. Alexander Mather\\'s '\n",
      "             'entry for \"Perseverance\" was voted tops among 28,000 entries. ',\n",
      "  'title': \"Virginia Middle School Student Earns Honor of Naming NASA's Next \"\n",
      "           'Mars Rover'},\n",
      " {'preview': \"A new paper identifies a ring of minerals at the rover's landing \"\n",
      "             'site that are ideal for fossilizing microbial life.',\n",
      "  'title': \"NASA's Mars 2020 Will Hunt for Microscopic Fossils\"},\n",
      " {'preview': 'The following Q&As with members of the team answer some of the '\n",
      "             'most common questions about the burrowing device, part of a '\n",
      "             'science instrument called the Heat Flow and Physical Properties '\n",
      "             'Package (HP3).',\n",
      "  'title': \"Common Questions about InSight's 'Mole'\"},\n",
      " {'preview': 'In a Q&A, spacesuit designer Amy Ross explains how five samples, '\n",
      "             'including a piece of helmet visor, will be tested aboard the '\n",
      "             'rover, which is targeting a July 30 launch. ',\n",
      "  'title': \"NASA's Perseverance Rover Will Carry First Spacesuit Materials to \"\n",
      "           'Mars'},\n",
      " {'preview': \"These are the scientists and engineers who built NASA's next \"\n",
      "             'Mars rover and who will guide it to a safe landing in Jezero '\n",
      "             'Crater. ',\n",
      "  'title': \"Meet the People Behind NASA's Perseverance Rover\"},\n",
      " {'preview': 'An instrument called SHERLOC will, with the help of its partner '\n",
      "             'WATSON, hunt for signs of ancient life by detecting organic '\n",
      "             'molecules and minerals.',\n",
      "  'title': \"The Detective Aboard NASA's Perseverance Rover\"},\n",
      " {'preview': \"Mark your calendars: The agency's latest rover has only about \"\n",
      "             '8,640,000 seconds to go before it touches down on the Red '\n",
      "             \"Planet, becoming history's next Mars car.\",\n",
      "  'title': \"NASA's Perseverance Rover 100 Days Out\"},\n",
      " {'preview': 'Scientists are finding new mysteries since the geophysics '\n",
      "             'mission landed two years ago.',\n",
      "  'title': \"3 Things We've Learned From NASA's Mars InSight \"}]\n"
     ]
    }
   ],
   "source": [
    "# get all the articles from the landing page\n",
    "all_articles = soup.find_all('div', class_='list_text')\n",
    "article_list = []\n",
    "for article in all_articles:\n",
    "    # extract the title and preview of each article\n",
    "    title = article.find('div', class_='content_title').text\n",
    "    preview = article.find('div', class_='article_teaser_body').text\n",
    "    article_dict = {\n",
    "        'title' : title,\n",
    "        'preview' : preview\n",
    "    }\n",
    "    article_list.append(article_dict)\n",
    "pprint(article_list)"
   ]
  },
  {
   "cell_type": "code",
   "execution_count": 5,
   "metadata": {},
   "outputs": [],
   "source": [
    "# connect to mongodb\n",
    "client = pymongo.MongoClient('mongodb://localhost:27017')\n",
    "db = client.mars_news_db"
   ]
  },
  {
   "cell_type": "code",
   "execution_count": 6,
   "metadata": {},
   "outputs": [
    {
     "data": {
      "text/plain": [
       "<pymongo.results.InsertManyResult at 0x7fd0c195e3a0>"
      ]
     },
     "execution_count": 6,
     "metadata": {},
     "output_type": "execute_result"
    }
   ],
   "source": [
    "# store the list of articles in the database\n",
    "db.news_preview.insert_many(article_list)"
   ]
  },
  {
   "cell_type": "code",
   "execution_count": null,
   "metadata": {},
   "outputs": [],
   "source": []
  }
 ],
 "metadata": {
  "kernelspec": {
   "display_name": "Python 3.9.12 ('base')",
   "language": "python",
   "name": "python3"
  },
  "language_info": {
   "codemirror_mode": {
    "name": "ipython",
    "version": 3
   },
   "file_extension": ".py",
   "mimetype": "text/x-python",
   "name": "python",
   "nbconvert_exporter": "python",
   "pygments_lexer": "ipython3",
   "version": "3.9.12"
  },
  "orig_nbformat": 4,
  "vscode": {
   "interpreter": {
    "hash": "30b1c3b492f40982a7e28b3d0ce22bed4c462ba3c1154a8be24fedf63069c4c6"
   }
  }
 },
 "nbformat": 4,
 "nbformat_minor": 2
}
